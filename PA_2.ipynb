{
 "cells": [
  {
   "cell_type": "markdown",
   "id": "f055e5bf",
   "metadata": {},
   "source": [
    "Q1. Write a Python program to convert kilometers to miles?"
   ]
  },
  {
   "cell_type": "code",
   "execution_count": 1,
   "id": "8d0b47f2",
   "metadata": {},
   "outputs": [
    {
     "name": "stdout",
     "output_type": "stream",
     "text": [
      "Enter the distance in kilometer: 17.5\n",
      "Distance in miles is:  10.8739925\n"
     ]
    }
   ],
   "source": [
    "km = float(input(\"Enter the distance in kilometer: \"))\n",
    "mil = 0.621371 * km\n",
    "print(\"Distance in miles is: \",mil)"
   ]
  },
  {
   "cell_type": "markdown",
   "id": "f7d85b8f",
   "metadata": {},
   "source": [
    "Q2. Write a Python program to convert Celsius to Fahrenheit?"
   ]
  },
  {
   "cell_type": "code",
   "execution_count": 6,
   "id": "8945ddcb",
   "metadata": {},
   "outputs": [
    {
     "name": "stdout",
     "output_type": "stream",
     "text": [
      "Enter the temperature in Celsius: 32\n",
      "Temperature in Fahrenheit is:  89.6\n"
     ]
    }
   ],
   "source": [
    "Cel = float(input(\"Enter the temperature in Celsius: \"))\n",
    "Far = (Cel * 1.8) + 32\n",
    "print(\"Temperature in Fahrenheit is: \",Far)"
   ]
  },
  {
   "cell_type": "markdown",
   "id": "51a2cc08",
   "metadata": {},
   "source": [
    "Q3. Write a Python program to display calendar?"
   ]
  },
  {
   "cell_type": "code",
   "execution_count": 7,
   "id": "12d0bbcb",
   "metadata": {},
   "outputs": [
    {
     "name": "stdout",
     "output_type": "stream",
     "text": [
      "Enter the year you want to see the calendar: 1996\n",
      "Enter the month in that corresponding year: 9\n",
      "   September 1996\n",
      "Mo Tu We Th Fr Sa Su\n",
      "                   1\n",
      " 2  3  4  5  6  7  8\n",
      " 9 10 11 12 13 14 15\n",
      "16 17 18 19 20 21 22\n",
      "23 24 25 26 27 28 29\n",
      "30\n",
      "\n"
     ]
    }
   ],
   "source": [
    "import calendar\n",
    "year = int(input(\"Enter the year you want to see the calendar: \"))\n",
    "month = int(input(\"Enter the month in that corresponding year: \"))\n",
    "print(calendar.month(year,month))"
   ]
  },
  {
   "cell_type": "markdown",
   "id": "fc473141",
   "metadata": {},
   "source": [
    "Q4. Write a Python program to solve quadratic equation?"
   ]
  },
  {
   "cell_type": "code",
   "execution_count": 24,
   "id": "1fa402df",
   "metadata": {},
   "outputs": [
    {
     "name": "stdout",
     "output_type": "stream",
     "text": [
      "Enter the value of a: 1\n",
      "Enter the value of b: 5\n",
      "Enter the value of c: 6\n",
      "The value of Descriminant is:  1.0\n",
      "Real Roots\n",
      "Roots are real but different\n",
      "Roots are:  -2.0 -3.0\n"
     ]
    }
   ],
   "source": [
    "import math\n",
    "#For a given Quadratic Eqn ax^2 + bx + c = 0\n",
    "a = float(input(\"Enter the value of a: \"))\n",
    "b = float(input(\"Enter the value of b: \"))\n",
    "c = float(input(\"Enter the value of c: \"))\n",
    "\n",
    "D = math.sqrt(b**2 - 4*a*c)\n",
    "print(\"The value of Descriminant is: \",D)\n",
    "\n",
    "if D >= 0:\n",
    "    print(\"Real Roots\")\n",
    "    if D == 0:\n",
    "        print(\"Roots are equal\")\n",
    "        root = (-b + D)/2 * a\n",
    "        print(\"Root:\",root)\n",
    "    else:\n",
    "        print(\"Roots are real but different\")\n",
    "        root1 = (-b + D)/2 * a\n",
    "        root2 = (-b - D)/2 * a\n",
    "        print(\"Roots are: \",root1,root2)\n",
    "else:\n",
    "    print(\"Roots are complex\")"
   ]
  },
  {
   "cell_type": "markdown",
   "id": "25af7d39",
   "metadata": {},
   "source": [
    "Q5. Write a Python program to swap two variables without temp variable?"
   ]
  },
  {
   "cell_type": "code",
   "execution_count": 25,
   "id": "97b8ae06",
   "metadata": {},
   "outputs": [
    {
     "name": "stdout",
     "output_type": "stream",
     "text": [
      "Enter the value of a: 15\n",
      "Enter the value of b: 45\n",
      "The value of a and b are:  15 45\n",
      "The new value of a and b are:  45 15\n"
     ]
    }
   ],
   "source": [
    "a = int(input(\"Enter the value of a: \"))\n",
    "b = int(input(\"Enter the value of b: \"))\n",
    "print(\"The value of a and b are: \",a,b)\n",
    "\n",
    "a , b = b , a\n",
    "\n",
    "print(\"The new value of a and b are: \",a,b)"
   ]
  }
 ],
 "metadata": {
  "kernelspec": {
   "display_name": "Python 3 (ipykernel)",
   "language": "python",
   "name": "python3"
  },
  "language_info": {
   "codemirror_mode": {
    "name": "ipython",
    "version": 3
   },
   "file_extension": ".py",
   "mimetype": "text/x-python",
   "name": "python",
   "nbconvert_exporter": "python",
   "pygments_lexer": "ipython3",
   "version": "3.9.7"
  }
 },
 "nbformat": 4,
 "nbformat_minor": 5
}
